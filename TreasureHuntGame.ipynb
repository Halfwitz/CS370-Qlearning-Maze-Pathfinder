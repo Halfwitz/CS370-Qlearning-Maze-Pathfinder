{
 "cells": [
  {
   "cell_type": "markdown",
   "metadata": {},
   "source": [
    "# Treasure Hunt Game Notebook\n",
    "\n",
    "## Read and Review Your Starter Code\n",
    "The theme of this project is a popular treasure hunt game in which the player needs to find the treasure before the pirate does. While you will not be developing the entire game, you will write the part of the game that represents the intelligent agent, which is a pirate in this case. The pirate will try to find the optimal path to the treasure using deep Q-learning. \n",
    "\n",
    "You have been provided with two Python classes and this notebook to help you with this assignment. The first class, TreasureMaze.py, represents the environment, which includes a maze object defined as a matrix. The second class, GameExperience.py, stores the episodes – that is, all the states that come in between the initial state and the terminal state. This is later used by the agent for learning by experience, called \"exploration\". This notebook shows how to play a game. Your task is to complete the deep Q-learning implementation for which a skeleton implementation has been provided. The code blocks you will need to complete has #TODO as a header.\n",
    "\n",
    "First, read and review the next few code and instruction blocks to understand the code that you have been given."
   ]
  },
  {
   "cell_type": "code",
   "execution_count": 289,
   "metadata": {},
   "outputs": [],
   "source": [
    "from __future__ import print_function\n",
    "import os, sys, time, datetime, json, random\n",
    "import numpy as np\n",
    "from keras.models import Sequential\n",
    "from keras.layers.core import Dense, Activation\n",
    "from keras.optimizers import SGD , Adam, RMSprop\n",
    "from keras.layers.advanced_activations import PReLU\n",
    "import matplotlib.pyplot as plt\n",
    "from TreasureMaze import TreasureMaze\n",
    "from GameExperience import GameExperience\n",
    "%matplotlib inline\n"
   ]
  },
  {
   "cell_type": "markdown",
   "metadata": {},
   "source": [
    "The following code block contains an 8x8 matrix that will be used as a maze object:"
   ]
  },
  {
   "cell_type": "code",
   "execution_count": 290,
   "metadata": {},
   "outputs": [],
   "source": [
    "maze = np.array([\n",
    "    [ 1.,  0.,  1.,  1.,  1.,  1.,  1.,  1.],\n",
    "    [ 1.,  0.,  1.,  1.,  1.,  0.,  1.,  1.],\n",
    "    [ 1.,  1.,  1.,  1.,  0.,  1.,  0.,  1.],\n",
    "    [ 1.,  1.,  1.,  0.,  1.,  1.,  1.,  1.],\n",
    "    [ 1.,  1.,  0.,  1.,  1.,  1.,  1.,  1.],\n",
    "    [ 1.,  1.,  1.,  0.,  1.,  0.,  0.,  0.],\n",
    "    [ 1.,  1.,  1.,  0.,  1.,  1.,  1.,  1.],\n",
    "    [ 1.,  1.,  1.,  1.,  0.,  1.,  1.,  1.]\n",
    "])"
   ]
  },
  {
   "cell_type": "markdown",
   "metadata": {},
   "source": [
    "This helper function allows a visual representation of the maze object:"
   ]
  },
  {
   "cell_type": "code",
   "execution_count": 291,
   "metadata": {},
   "outputs": [],
   "source": [
    "def show(qmaze):\n",
    "    plt.grid('on')\n",
    "    nrows, ncols = qmaze.maze.shape\n",
    "    ax = plt.gca()\n",
    "    ax.set_xticks(np.arange(0.5, nrows, 1))\n",
    "    ax.set_yticks(np.arange(0.5, ncols, 1))\n",
    "    ax.set_xticklabels([])\n",
    "    ax.set_yticklabels([])\n",
    "    canvas = np.copy(qmaze.maze)\n",
    "    for row,col in qmaze.visited:\n",
    "        canvas[row,col] = 0.6\n",
    "    pirate_row, pirate_col, _ = qmaze.state\n",
    "    canvas[pirate_row, pirate_col] = 0.3   # pirate cell\n",
    "    canvas[nrows-1, ncols-1] = 0.9 # treasure cell\n",
    "    img = plt.imshow(canvas, interpolation='none', cmap='gray')\n",
    "    return img"
   ]
  },
  {
   "cell_type": "markdown",
   "metadata": {},
   "source": [
    "The pirate agent can move in four directions: left, right, up, and down. \n",
    "\n",
    "While the agent primarily learns by experience through exploitation, often, the agent can choose to explore the environment to find previously undiscovered paths. This is called \"exploration\" and is defined by epsilon. This value is typically a lower value such as 0.1, which means for every ten attempts, the agent will attempt to learn by experience nine times and will randomly explore a new path one time. You are encouraged to try various values for the exploration factor and see how the algorithm performs."
   ]
  },
  {
   "cell_type": "code",
   "execution_count": 292,
   "metadata": {},
   "outputs": [],
   "source": [
    "LEFT = 0\n",
    "UP = 1\n",
    "RIGHT = 2\n",
    "DOWN = 3\n",
    "\n",
    "\n",
    "# Exploration factor\n",
    "epsilon = 0.2 # randomly explore new path 10% of the time\n",
    "\n",
    "# Actions dictionary\n",
    "actions_dict = {\n",
    "    LEFT: 'left',\n",
    "    UP: 'up',\n",
    "    RIGHT: 'right',\n",
    "    DOWN: 'down',\n",
    "}\n",
    "\n",
    "num_actions = len(actions_dict)\n"
   ]
  },
  {
   "cell_type": "markdown",
   "metadata": {},
   "source": [
    "The sample code block and output below show creating a maze object and performing one action (DOWN), which returns the reward. The resulting updated environment is visualized."
   ]
  },
  {
   "cell_type": "code",
   "execution_count": 293,
   "metadata": {},
   "outputs": [
    {
     "name": "stdout",
     "output_type": "stream",
     "text": [
      "reward= -0.04\n"
     ]
    },
    {
     "data": {
      "text/plain": [
       "<matplotlib.image.AxesImage at 0x21467e57d30>"
      ]
     },
     "execution_count": 293,
     "metadata": {},
     "output_type": "execute_result"
    },
    {
     "data": {
      "image/png": "[encoded data removed]",
      "text/plain": [
       "<Figure size 640x480 with 1 Axes>"
      ]
     },
     "metadata": {},
     "output_type": "display_data"
    }
   ],
   "source": [
    "qmaze = TreasureMaze(maze)\n",
    "canvas, reward, game_over = qmaze.act(DOWN)\n",
    "print(\"reward=\", reward)\n",
    "show(qmaze)"
   ]
  },
  {
   "cell_type": "markdown",
   "metadata": {},
   "source": [
    "This function simulates a full game based on the provided trained model. The other parameters include the TreasureMaze object and the starting position of the pirate."
   ]
  },
  {
   "cell_type": "code",
   "execution_count": 294,
   "metadata": {},
   "outputs": [],
   "source": [
    "def play_game(model, qmaze, pirate_cell):\n",
    "    qmaze.reset(pirate_cell)\n",
    "    envstate = qmaze.observe()\n",
    "    while True:\n",
    "        prev_envstate = envstate\n",
    "        # get next action\n",
    "        q = model.predict(prev_envstate)\n",
    "        action = np.argmax(q[0])\n",
    "\n",
    "        # apply action, get rewards and new state\n",
    "        envstate, reward, game_status = qmaze.act(action)\n",
    "        if game_status == 'win':\n",
    "            return True\n",
    "        elif game_status == 'lose':\n",
    "            return False"
   ]
  },
  {
   "cell_type": "markdown",
   "metadata": {},
   "source": [
    "This function helps you to determine whether the pirate can win any game at all. If your maze is not well designed, the pirate may not win any game at all. In this case, your training would not yield any result. The provided maze in this notebook ensures that there is a path to win and you can run this method to check."
   ]
  },
  {
   "cell_type": "code",
   "execution_count": 295,
   "metadata": {},
   "outputs": [],
   "source": [
    "def completion_check(model, qmaze):\n",
    "    for cell in qmaze.free_cells:\n",
    "        if not qmaze.valid_actions(cell):\n",
    "            return False\n",
    "        if not play_game(model, qmaze, cell):\n",
    "            return False\n",
    "    return True"
   ]
  },
  {
   "cell_type": "markdown",
   "metadata": {},
   "source": [
    "The code you have been given in this block will build the neural network model. Review the code and note the number of layers, as well as the activation, optimizer, and loss functions that are used to train the model."
   ]
  },
  {
   "cell_type": "code",
   "execution_count": 296,
   "metadata": {},
   "outputs": [],
   "source": [
    "def build_model(maze):\n",
    "    model = Sequential()\n",
    "    model.add(Dense(maze.size, input_shape=(maze.size,)))\n",
    "    model.add(PReLU())\n",
    "    model.add(Dense(maze.size))\n",
    "    model.add(PReLU())\n",
    "    model.add(Dense(num_actions))\n",
    "    model.compile(optimizer='adam', loss='mse')\n",
    "    return model"
   ]
  },
  {
   "cell_type": "markdown",
   "metadata": {},
   "source": [
    "# #TODO: Complete the Q-Training Algorithm Code Block\n",
    "\n",
    "This is your deep Q-learning implementation. The goal of your deep Q-learning implementation is to find the best possible navigation sequence that results in reaching the treasure cell while maximizing the reward. In your implementation, you need to determine the optimal number of epochs to achieve a 100% win rate.\n",
    "\n",
    "You will need to complete the section starting with #pseudocode. The pseudocode has been included for you."
   ]
  },
  {
   "cell_type": "code",
   "execution_count": 297,
   "metadata": {},
   "outputs": [],
   "source": [
    "def qtrain(model, maze, **opt): # example: qtrain(model, maze, epochs=1000, max_memory=8*maze.size, data_size=32)\n",
    "\n",
    "    # exploration factor\n",
    "    global epsilon \n",
    "\n",
    "    # number of epochs\n",
    "    n_epoch = opt.get('n_epoch', 15000) # default to 15000\n",
    "\n",
    "    # maximum memory to store episodes\n",
    "    max_memory = opt.get('max_memory', 1000) # default to 1000\n",
    "\n",
    "    # maximum data size for training\n",
    "    data_size = opt.get('data_size', 50) # (batch #? default to 50)\n",
    "\n",
    "    # start time\n",
    "    start_time = datetime.datetime.now()\n",
    "\n",
    "    # Construct environment/game from numpy array: maze (see above)\n",
    "    qmaze = TreasureMaze(maze)\n",
    "\n",
    "    # Initialize experience replay object\n",
    "    experience = GameExperience(model, max_memory=max_memory)\n",
    "    \n",
    "    # initialize win statistics\n",
    "    win_history = []   # history of win/lose game\n",
    "    hsize = qmaze.maze.size//2   # history window size\n",
    "    win_rate = 0.0\n",
    "    \n",
    "    # For each epoch (1 game)\n",
    "    for epoch in range(n_epoch):\n",
    "        # Initialize agent in top-left cell and reset maze/state\n",
    "        agent_cell = random.choice(qmaze.free_cells) # randomly select a free cell\n",
    "        qmaze.reset(agent_cell) # reset maze with agent in above cell\n",
    "        envstate = qmaze.observe() # get current state\n",
    "        n_episodes = 0\n",
    "        \n",
    "        # play game while game not over (each loop is 1 episode)\n",
    "        while qmaze.game_status() == 'not_over':\n",
    "            previous_envstate = envstate\n",
    "            \n",
    "            # choose action by exploration or exploitation\n",
    "            action = random.randrange(num_actions) # random action\n",
    "            if np.random.rand() >= epsilon: # choose exploitation (90% chance if epsilon == .1)\n",
    "                q_values = experience.predict(previous_envstate)\n",
    "                action = np.argmax(q_values) # choose action with largest q value\n",
    "            else: # choose exploration (random action)\n",
    "                action = random.randrange(num_actions)\n",
    "            \n",
    "            # get state returned after performing chosen action and increment episode count.\n",
    "            envstate, reward, game_status = qmaze.act(action)\n",
    "            n_episodes += 1\n",
    "\n",
    "            # remember the episode\n",
    "            episode = [previous_envstate, action, reward, envstate, game_status]\n",
    "            experience.remember(episode)\n",
    "            \n",
    "            # Train neural network model and evaluate loss (experience replay)\n",
    "            # get a batch of experience inputs/targets from memory (input = envstate and target = updated q values)\n",
    "            inputs, targets = experience.get_data(data_size) \n",
    "            model.fit(inputs, targets, epochs=8, batch_size=16, verbose=0)\n",
    "            # evaluate loss\n",
    "            loss = model.evaluate(inputs, targets, verbose=0)\n",
    "                    \n",
    "        # update wins/win_rate\n",
    "        win_history.append(1 if game_status == 'win' else 0) # 1 = win  0 = loss\n",
    "        \n",
    "        # win rate = wins over total games for last hsize number of games (hsize = #cells // 2)\n",
    "        win_rate = sum(win_history[-hsize:]) / len(win_history[-hsize:])\n",
    "    \n",
    "        #Print the epoch, loss, episodes, win count, and win rate for each epoch\n",
    "        dt = datetime.datetime.now() - start_time\n",
    "        t = format_time(dt.total_seconds())\n",
    "        template = \"Epoch: {:03d}/{:d} | Loss: {:.4f} | Episodes: {:d} | Win count: {:d} | Win rate: {:.3f} | time: {}\"\n",
    "        print(template.format(epoch, n_epoch-1, loss, n_episodes, sum(win_history), win_rate, t))\n",
    "        \n",
    "        # We simply check if training has exhausted all free cells and if in all\n",
    "        # cases the agent won.\n",
    "        if win_rate > 0.9 :\n",
    "            epsilon = 0.05 # reduce exploration rate if win rate > 90%\n",
    "        if sum(win_history[-hsize:]) == hsize:\n",
    "            passed = completion_check(model, qmaze)\n",
    "            print (passed)\n",
    "            if passed:\n",
    "                print(\"Reached 100%% win rate at epoch: %d\" % (epoch,))\n",
    "                break\n",
    "    \n",
    "    # Determine the total time for training\n",
    "    dt = datetime.datetime.now() - start_time\n",
    "    seconds = dt.total_seconds()\n",
    "    t = format_time(seconds)\n",
    "\n",
    "    print(\"n_epoch: %d, max_mem: %d, data: %d, time: %s\" % (epoch, max_memory, data_size, t))\n",
    "    return seconds\n",
    "\n",
    "    # pseudocode:\n",
    "    #X For each epoch: \n",
    "    #X?  Agent_cell = randomly select a free cell\n",
    "    #X   Reset the maze with agent set to above position\n",
    "    #    Hint: Review the reset method in the TreasureMaze.py class.\n",
    "    #X   envstate = Environment.current_state\n",
    "    #    Hint: Review the observe method in the TreasureMaze.py class.\n",
    "    #X   While state is not game over:\n",
    "    #X       previous_envstate = envstate\n",
    "    #X       Action = randomly choose action (left, right, up, down) either by exploration or by exploitation\n",
    "    #X       envstate, reward, game_status = qmaze.act(action)\n",
    "    #    Hint: Review the act method in the TreasureMaze.py class.\n",
    "    #X       episode = [previous_envstate, action, reward, envstate, game_status]\n",
    "    #X       Store episode in Experience replay object\n",
    "    #    Hint: Review the remember method in the GameExperience.py class.\n",
    "    #        Train neural network model and evaluate loss\n",
    "    #    Hint: Call GameExperience.get_data to retrieve training data (input and target) and pass to model.fit method \n",
    "    #          to train the model. You can call model.evaluate to determine loss.\n",
    "    #    If the win rate is above the threshold and your model passes the completion check, that would be your epoch.\n",
    "    #Print the epoch, loss, episodes, win count, and win rate for each epoch\n",
    "\n",
    "# This is a small utility for printing readable time strings:\n",
    "def format_time(seconds):\n",
    "    if seconds < 400:\n",
    "        s = float(seconds)\n",
    "        return \"%.1f seconds\" % (s,)\n",
    "    elif seconds < 4000:\n",
    "        m = seconds / 60.0\n",
    "        return \"%.2f minutes\" % (m,)\n",
    "    else:\n",
    "        h = seconds / 3600.0\n",
    "        return \"%.2f hours\" % (h,)"
   ]
  },
  {
   "cell_type": "markdown",
   "metadata": {},
   "source": [
    "## Test Your Model\n",
    "\n",
    "Now we will start testing the deep Q-learning implementation. To begin, select **Cell**, then **Run All** from the menu bar. This will run your notebook. As it runs, you should see output begin to appear beneath the next few cells. The code below creates an instance of TreasureMaze."
   ]
  },
  {
   "cell_type": "code",
   "execution_count": 298,
   "metadata": {},
   "outputs": [
    {
     "data": {
      "text/plain": [
       "<matplotlib.image.AxesImage at 0x21467ed8978>"
      ]
     },
     "execution_count": 298,
     "metadata": {},
     "output_type": "execute_result"
    },
    {
     "data": {
      "image/png": "[encoded data removed]",
      "text/plain": [
       "<Figure size 640x480 with 1 Axes>"
      ]
     },
     "metadata": {},
     "output_type": "display_data"
    }
   ],
   "source": [
    "qmaze = TreasureMaze(maze)\n",
    "show(qmaze)"
   ]
  },
  {
   "cell_type": "markdown",
   "metadata": {},
   "source": [
    "In the next code block, you will build your model and train it using deep Q-learning. Note: This step takes several minutes to fully run."
   ]
  },
  {
   "cell_type": "code",
   "execution_count": 299,
   "metadata": {},
   "outputs": [
    {
     "name": "stdout",
     "output_type": "stream",
     "text": [
      "Epoch: 000/999 | Loss: 0.0005 | Episodes: 141 | Win count: 0 | Win rate: 0.000 | time: 4.2 seconds\n",
      "Epoch: 001/999 | Loss: 0.0005 | Episodes: 137 | Win count: 0 | Win rate: 0.000 | time: 8.2 seconds\n",
      "Epoch: 002/999 | Loss: 0.0007 | Episodes: 86 | Win count: 1 | Win rate: 0.333 | time: 10.9 seconds\n",
      "Epoch: 003/999 | Loss: 0.0010 | Episodes: 33 | Win count: 2 | Win rate: 0.500 | time: 11.8 seconds\n",
      "Epoch: 004/999 | Loss: 0.0006 | Episodes: 139 | Win count: 2 | Win rate: 0.400 | time: 16.0 seconds\n",
      "Epoch: 005/999 | Loss: 0.0004 | Episodes: 68 | Win count: 3 | Win rate: 0.500 | time: 18.0 seconds\n",
      "Epoch: 006/999 | Loss: 0.0007 | Episodes: 14 | Win count: 4 | Win rate: 0.571 | time: 18.4 seconds\n",
      "Epoch: 007/999 | Loss: 0.0004 | Episodes: 2 | Win count: 5 | Win rate: 0.625 | time: 18.5 seconds\n",
      "Epoch: 008/999 | Loss: 0.0008 | Episodes: 138 | Win count: 5 | Win rate: 0.556 | time: 22.5 seconds\n",
      "Epoch: 009/999 | Loss: 0.0005 | Episodes: 135 | Win count: 5 | Win rate: 0.500 | time: 26.7 seconds\n",
      "Epoch: 010/999 | Loss: 0.0008 | Episodes: 6 | Win count: 6 | Win rate: 0.545 | time: 26.8 seconds\n",
      "Epoch: 011/999 | Loss: 0.0007 | Episodes: 27 | Win count: 7 | Win rate: 0.583 | time: 27.6 seconds\n",
      "Epoch: 012/999 | Loss: 0.0003 | Episodes: 13 | Win count: 8 | Win rate: 0.615 | time: 28.0 seconds\n",
      "Epoch: 013/999 | Loss: 0.0007 | Episodes: 134 | Win count: 8 | Win rate: 0.571 | time: 31.9 seconds\n",
      "Epoch: 014/999 | Loss: 0.0002 | Episodes: 17 | Win count: 9 | Win rate: 0.600 | time: 32.4 seconds\n",
      "Epoch: 015/999 | Loss: 0.0004 | Episodes: 11 | Win count: 10 | Win rate: 0.625 | time: 32.7 seconds\n",
      "Epoch: 016/999 | Loss: 0.0005 | Episodes: 138 | Win count: 10 | Win rate: 0.588 | time: 36.5 seconds\n",
      "Epoch: 017/999 | Loss: 0.0006 | Episodes: 138 | Win count: 10 | Win rate: 0.556 | time: 40.7 seconds\n",
      "Epoch: 018/999 | Loss: 0.0009 | Episodes: 30 | Win count: 11 | Win rate: 0.579 | time: 41.7 seconds\n",
      "Epoch: 019/999 | Loss: 0.0003 | Episodes: 139 | Win count: 11 | Win rate: 0.550 | time: 45.8 seconds\n",
      "Epoch: 020/999 | Loss: 0.0012 | Episodes: 139 | Win count: 11 | Win rate: 0.524 | time: 49.7 seconds\n",
      "Epoch: 021/999 | Loss: 0.0007 | Episodes: 12 | Win count: 12 | Win rate: 0.545 | time: 50.1 seconds\n",
      "Epoch: 022/999 | Loss: 0.0006 | Episodes: 12 | Win count: 13 | Win rate: 0.565 | time: 50.4 seconds\n",
      "Epoch: 023/999 | Loss: 0.0013 | Episodes: 47 | Win count: 14 | Win rate: 0.583 | time: 51.8 seconds\n",
      "Epoch: 024/999 | Loss: 0.0010 | Episodes: 126 | Win count: 15 | Win rate: 0.600 | time: 55.5 seconds\n",
      "Epoch: 025/999 | Loss: 0.0007 | Episodes: 64 | Win count: 16 | Win rate: 0.615 | time: 57.4 seconds\n",
      "Epoch: 026/999 | Loss: 0.0007 | Episodes: 14 | Win count: 17 | Win rate: 0.630 | time: 57.8 seconds\n",
      "Epoch: 027/999 | Loss: 0.0012 | Episodes: 12 | Win count: 18 | Win rate: 0.643 | time: 58.1 seconds\n",
      "Epoch: 028/999 | Loss: 0.0010 | Episodes: 7 | Win count: 19 | Win rate: 0.655 | time: 58.3 seconds\n",
      "Epoch: 029/999 | Loss: 0.0008 | Episodes: 133 | Win count: 19 | Win rate: 0.633 | time: 62.3 seconds\n",
      "Epoch: 030/999 | Loss: 0.0012 | Episodes: 81 | Win count: 20 | Win rate: 0.645 | time: 64.7 seconds\n",
      "Epoch: 031/999 | Loss: 0.0008 | Episodes: 28 | Win count: 21 | Win rate: 0.656 | time: 65.5 seconds\n",
      "Epoch: 032/999 | Loss: 0.0004 | Episodes: 71 | Win count: 22 | Win rate: 0.688 | time: 67.7 seconds\n",
      "Epoch: 033/999 | Loss: 0.0009 | Episodes: 16 | Win count: 23 | Win rate: 0.719 | time: 68.1 seconds\n",
      "Epoch: 034/999 | Loss: 0.0008 | Episodes: 50 | Win count: 24 | Win rate: 0.719 | time: 69.6 seconds\n",
      "Epoch: 035/999 | Loss: 0.0009 | Episodes: 12 | Win count: 25 | Win rate: 0.719 | time: 70.0 seconds\n",
      "Epoch: 036/999 | Loss: 0.0010 | Episodes: 2 | Win count: 26 | Win rate: 0.750 | time: 70.1 seconds\n",
      "Epoch: 037/999 | Loss: 0.0014 | Episodes: 62 | Win count: 27 | Win rate: 0.750 | time: 71.9 seconds\n",
      "Epoch: 038/999 | Loss: 0.0013 | Episodes: 66 | Win count: 28 | Win rate: 0.750 | time: 73.9 seconds\n",
      "Epoch: 039/999 | Loss: 0.0013 | Episodes: 26 | Win count: 29 | Win rate: 0.750 | time: 74.6 seconds\n",
      "Epoch: 040/999 | Loss: 0.0008 | Episodes: 48 | Win count: 30 | Win rate: 0.781 | time: 76.0 seconds\n",
      "Epoch: 041/999 | Loss: 0.0007 | Episodes: 22 | Win count: 31 | Win rate: 0.812 | time: 76.7 seconds\n",
      "Epoch: 042/999 | Loss: 0.0013 | Episodes: 51 | Win count: 32 | Win rate: 0.812 | time: 78.1 seconds\n",
      "Epoch: 043/999 | Loss: 0.0009 | Episodes: 11 | Win count: 33 | Win rate: 0.812 | time: 78.4 seconds\n",
      "Epoch: 044/999 | Loss: 0.0013 | Episodes: 24 | Win count: 34 | Win rate: 0.812 | time: 79.2 seconds\n",
      "Epoch: 045/999 | Loss: 0.0009 | Episodes: 9 | Win count: 35 | Win rate: 0.844 | time: 79.4 seconds\n",
      "Epoch: 046/999 | Loss: 0.0003 | Episodes: 4 | Win count: 36 | Win rate: 0.844 | time: 79.6 seconds\n",
      "Epoch: 047/999 | Loss: 0.0008 | Episodes: 36 | Win count: 37 | Win rate: 0.844 | time: 80.6 seconds\n",
      "Epoch: 048/999 | Loss: 0.0004 | Episodes: 155 | Win count: 37 | Win rate: 0.844 | time: 85.1 seconds\n",
      "Epoch: 049/999 | Loss: 0.0006 | Episodes: 6 | Win count: 38 | Win rate: 0.875 | time: 85.3 seconds\n",
      "Epoch: 050/999 | Loss: 0.0007 | Episodes: 13 | Win count: 39 | Win rate: 0.875 | time: 85.7 seconds\n",
      "Epoch: 051/999 | Loss: 0.0004 | Episodes: 56 | Win count: 40 | Win rate: 0.906 | time: 87.4 seconds\n",
      "Epoch: 052/999 | Loss: 0.0001 | Episodes: 47 | Win count: 41 | Win rate: 0.938 | time: 88.8 seconds\n",
      "Epoch: 053/999 | Loss: 0.0010 | Episodes: 73 | Win count: 42 | Win rate: 0.938 | time: 90.9 seconds\n",
      "Epoch: 054/999 | Loss: 0.0012 | Episodes: 8 | Win count: 43 | Win rate: 0.938 | time: 91.2 seconds\n",
      "Epoch: 055/999 | Loss: 0.0008 | Episodes: 16 | Win count: 44 | Win rate: 0.938 | time: 91.7 seconds\n",
      "Epoch: 056/999 | Loss: 0.0013 | Episodes: 39 | Win count: 45 | Win rate: 0.938 | time: 92.9 seconds\n",
      "Epoch: 057/999 | Loss: 0.0008 | Episodes: 5 | Win count: 46 | Win rate: 0.938 | time: 93.0 seconds\n",
      "Epoch: 058/999 | Loss: 0.0005 | Episodes: 24 | Win count: 47 | Win rate: 0.938 | time: 93.7 seconds\n",
      "Epoch: 059/999 | Loss: 0.0009 | Episodes: 54 | Win count: 48 | Win rate: 0.938 | time: 95.4 seconds\n",
      "Epoch: 060/999 | Loss: 0.0007 | Episodes: 19 | Win count: 49 | Win rate: 0.938 | time: 95.9 seconds\n",
      "Epoch: 061/999 | Loss: 0.0009 | Episodes: 23 | Win count: 50 | Win rate: 0.969 | time: 96.6 seconds\n",
      "Epoch: 062/999 | Loss: 0.0006 | Episodes: 45 | Win count: 51 | Win rate: 0.969 | time: 98.0 seconds\n",
      "Epoch: 063/999 | Loss: 0.0006 | Episodes: 9 | Win count: 52 | Win rate: 0.969 | time: 98.3 seconds\n",
      "Epoch: 064/999 | Loss: 0.0007 | Episodes: 16 | Win count: 53 | Win rate: 0.969 | time: 98.8 seconds\n",
      "Epoch: 065/999 | Loss: 0.0006 | Episodes: 2 | Win count: 54 | Win rate: 0.969 | time: 98.8 seconds\n",
      "Epoch: 066/999 | Loss: 0.0009 | Episodes: 8 | Win count: 55 | Win rate: 0.969 | time: 99.1 seconds\n",
      "Epoch: 067/999 | Loss: 0.0007 | Episodes: 62 | Win count: 56 | Win rate: 0.969 | time: 101.0 seconds\n",
      "Epoch: 068/999 | Loss: 0.0010 | Episodes: 6 | Win count: 57 | Win rate: 0.969 | time: 101.2 seconds\n",
      "Epoch: 069/999 | Loss: 0.0003 | Episodes: 13 | Win count: 58 | Win rate: 0.969 | time: 101.6 seconds\n",
      "Epoch: 070/999 | Loss: 0.0004 | Episodes: 13 | Win count: 59 | Win rate: 0.969 | time: 102.0 seconds\n",
      "Epoch: 071/999 | Loss: 0.0003 | Episodes: 8 | Win count: 60 | Win rate: 0.969 | time: 102.2 seconds\n",
      "Epoch: 072/999 | Loss: 0.0009 | Episodes: 10 | Win count: 61 | Win rate: 0.969 | time: 102.5 seconds\n",
      "Epoch: 073/999 | Loss: 0.0007 | Episodes: 33 | Win count: 62 | Win rate: 0.969 | time: 103.5 seconds\n",
      "Epoch: 074/999 | Loss: 0.0005 | Episodes: 2 | Win count: 63 | Win rate: 0.969 | time: 103.5 seconds\n",
      "Epoch: 075/999 | Loss: 0.0006 | Episodes: 35 | Win count: 64 | Win rate: 0.969 | time: 104.6 seconds\n",
      "Epoch: 076/999 | Loss: 0.0006 | Episodes: 29 | Win count: 65 | Win rate: 0.969 | time: 105.5 seconds\n",
      "Epoch: 077/999 | Loss: 0.0005 | Episodes: 6 | Win count: 66 | Win rate: 0.969 | time: 105.7 seconds\n",
      "Epoch: 078/999 | Loss: 0.0006 | Episodes: 5 | Win count: 67 | Win rate: 0.969 | time: 105.9 seconds\n",
      "Epoch: 079/999 | Loss: 0.0008 | Episodes: 36 | Win count: 68 | Win rate: 0.969 | time: 106.9 seconds\n",
      "Epoch: 080/999 | Loss: 0.0005 | Episodes: 8 | Win count: 69 | Win rate: 1.000 | time: 107.2 seconds\n",
      "False\n",
      "Epoch: 081/999 | Loss: 0.0004 | Episodes: 19 | Win count: 70 | Win rate: 1.000 | time: 107.9 seconds\n",
      "False\n"
     ]
    },
    {
     "name": "stdout",
     "output_type": "stream",
     "text": [
      "Epoch: 082/999 | Loss: 0.0005 | Episodes: 17 | Win count: 71 | Win rate: 1.000 | time: 108.4 seconds\n",
      "False\n",
      "Epoch: 083/999 | Loss: 0.0003 | Episodes: 2 | Win count: 72 | Win rate: 1.000 | time: 108.6 seconds\n",
      "False\n",
      "Epoch: 084/999 | Loss: 0.0002 | Episodes: 3 | Win count: 73 | Win rate: 1.000 | time: 108.9 seconds\n",
      "False\n",
      "Epoch: 085/999 | Loss: 0.0002 | Episodes: 8 | Win count: 74 | Win rate: 1.000 | time: 109.3 seconds\n",
      "False\n",
      "Epoch: 086/999 | Loss: 0.0002 | Episodes: 24 | Win count: 75 | Win rate: 1.000 | time: 110.2 seconds\n",
      "False\n",
      "Epoch: 087/999 | Loss: 0.0006 | Episodes: 17 | Win count: 76 | Win rate: 1.000 | time: 110.7 seconds\n",
      "False\n",
      "Epoch: 088/999 | Loss: 0.0005 | Episodes: 1 | Win count: 77 | Win rate: 1.000 | time: 110.8 seconds\n",
      "False\n",
      "Epoch: 089/999 | Loss: 0.0003 | Episodes: 26 | Win count: 78 | Win rate: 1.000 | time: 111.6 seconds\n",
      "False\n",
      "Epoch: 090/999 | Loss: 0.0004 | Episodes: 34 | Win count: 79 | Win rate: 1.000 | time: 112.8 seconds\n",
      "False\n",
      "Epoch: 091/999 | Loss: 0.0002 | Episodes: 7 | Win count: 80 | Win rate: 1.000 | time: 113.0 seconds\n",
      "False\n",
      "Epoch: 092/999 | Loss: 0.0004 | Episodes: 12 | Win count: 81 | Win rate: 1.000 | time: 113.4 seconds\n",
      "False\n",
      "Epoch: 093/999 | Loss: 0.0003 | Episodes: 23 | Win count: 82 | Win rate: 1.000 | time: 114.1 seconds\n",
      "False\n",
      "Epoch: 094/999 | Loss: 0.0005 | Episodes: 14 | Win count: 83 | Win rate: 1.000 | time: 114.6 seconds\n",
      "False\n",
      "Epoch: 095/999 | Loss: 0.0002 | Episodes: 8 | Win count: 84 | Win rate: 1.000 | time: 115.0 seconds\n",
      "False\n",
      "Epoch: 096/999 | Loss: 0.0003 | Episodes: 32 | Win count: 85 | Win rate: 1.000 | time: 116.2 seconds\n",
      "False\n",
      "Epoch: 097/999 | Loss: 0.0004 | Episodes: 6 | Win count: 86 | Win rate: 1.000 | time: 116.6 seconds\n",
      "False\n",
      "Epoch: 098/999 | Loss: 0.0005 | Episodes: 37 | Win count: 87 | Win rate: 1.000 | time: 117.9 seconds\n",
      "False\n",
      "Epoch: 099/999 | Loss: 0.0003 | Episodes: 8 | Win count: 88 | Win rate: 1.000 | time: 118.2 seconds\n",
      "False\n",
      "Epoch: 100/999 | Loss: 0.0006 | Episodes: 12 | Win count: 89 | Win rate: 1.000 | time: 118.6 seconds\n",
      "False\n",
      "Epoch: 101/999 | Loss: 0.0004 | Episodes: 27 | Win count: 90 | Win rate: 1.000 | time: 119.6 seconds\n",
      "False\n",
      "Epoch: 102/999 | Loss: 0.0002 | Episodes: 5 | Win count: 91 | Win rate: 1.000 | time: 119.8 seconds\n",
      "False\n",
      "Epoch: 103/999 | Loss: 0.0005 | Episodes: 30 | Win count: 92 | Win rate: 1.000 | time: 120.7 seconds\n",
      "False\n",
      "Epoch: 104/999 | Loss: 0.0008 | Episodes: 2 | Win count: 93 | Win rate: 1.000 | time: 120.8 seconds\n",
      "False\n",
      "Epoch: 105/999 | Loss: 0.0004 | Episodes: 21 | Win count: 94 | Win rate: 1.000 | time: 121.4 seconds\n",
      "False\n",
      "Epoch: 106/999 | Loss: 0.0001 | Episodes: 24 | Win count: 95 | Win rate: 1.000 | time: 122.2 seconds\n",
      "False\n",
      "Epoch: 107/999 | Loss: 0.0003 | Episodes: 17 | Win count: 96 | Win rate: 1.000 | time: 122.7 seconds\n",
      "False\n",
      "Epoch: 108/999 | Loss: 0.0004 | Episodes: 9 | Win count: 97 | Win rate: 1.000 | time: 123.2 seconds\n",
      "False\n",
      "Epoch: 109/999 | Loss: 0.0003 | Episodes: 32 | Win count: 98 | Win rate: 1.000 | time: 124.3 seconds\n",
      "True\n",
      "Reached 100% win rate at epoch: 109\n",
      "n_epoch: 109, max_mem: 512, data: 32, time: 124.6 seconds\n"
     ]
    },
    {
     "data": {
      "text/plain": [
       "124.58557"
      ]
     },
     "execution_count": 299,
     "metadata": {},
     "output_type": "execute_result"
    }
   ],
   "source": [
    "model = build_model(maze)\n",
    "qtrain(model, maze, n_epoch=1000, max_memory=8*maze.size, data_size=32)"
   ]
  },
  {
   "cell_type": "markdown",
   "metadata": {},
   "source": [
    "This cell will check to see if the model passes the completion check. Note: This could take several minutes."
   ]
  },
  {
   "cell_type": "code",
   "execution_count": 300,
   "metadata": {},
   "outputs": [
    {
     "data": {
      "text/plain": [
       "<matplotlib.image.AxesImage at 0x21468136e48>"
      ]
     },
     "execution_count": 300,
     "metadata": {},
     "output_type": "execute_result"
    },
    {
     "data": {
      "image/png": "[encoded data removed]",
      "text/plain": [
       "<Figure size 640x480 with 1 Axes>"
      ]
     },
     "metadata": {},
     "output_type": "display_data"
    }
   ],
   "source": [
    "completion_check(model, qmaze)\n",
    "qmaze = TreasureMaze(maze)\n",
    "show(qmaze)"
   ]
  },
  {
   "cell_type": "markdown",
   "metadata": {},
   "source": [
    "This cell will test your model for one game. It will start the pirate at the top-left corner and run play_game. The agent should find a path from the starting position to the target (treasure). The treasure is located in the bottom-right corner."
   ]
  },
  {
   "cell_type": "code",
   "execution_count": 301,
   "metadata": {},
   "outputs": [
    {
     "data": {
      "text/plain": [
       "<matplotlib.image.AxesImage at 0x214691d7c18>"
      ]
     },
     "execution_count": 301,
     "metadata": {},
     "output_type": "execute_result"
    },
    {
     "data": {
      "image/png": "[encoded data removed]",
      "text/plain": [
       "<Figure size 640x480 with 1 Axes>"
      ]
     },
     "metadata": {},
     "output_type": "display_data"
    }
   ],
   "source": [
    "pirate_start = (0, 0)\n",
    "play_game(model, qmaze, pirate_start)\n",
    "show(qmaze)"
   ]
  },
  {
   "cell_type": "markdown",
   "metadata": {},
   "source": [
    "## Save and Submit Your Work\n",
    "After you have finished creating the code for your notebook, save your work. Make sure that your notebook contains your name in the filename (e.g. Doe_Jane_ProjectTwo.ipynb). This will help your instructor access and grade your work easily. Download a copy of your IPYNB file and submit it to Brightspace. Refer to the Jupyter Notebook in Apporto Tutorial if you need help with these tasks."
   ]
  }
 ],
 "metadata": {
  "kernelspec": {
   "display_name": "Python 3 (ipykernel)",
   "language": "python",
   "name": "python3"
  },
  "language_info": {
   "codemirror_mode": {
    "name": "ipython",
    "version": 3
   },
   "file_extension": ".py",
   "mimetype": "text/x-python",
   "name": "python",
   "nbconvert_exporter": "python",
   "pygments_lexer": "ipython3",
   "version": "3.7.0"
  }
 },
 "nbformat": 4,
 "nbformat_minor": 4
}
